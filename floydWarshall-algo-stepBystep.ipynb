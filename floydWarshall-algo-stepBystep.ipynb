{
 "cells": [
  {
   "cell_type": "markdown",
   "metadata": {},
   "source": [
    "# Floyd Warshall (Floyd's) Algorithm \n",
    "Step by Step Implementation in Python <br> \n",
    "m3zai6i@gmail.com"
   ]
  },
  {
   "cell_type": "code",
   "execution_count": 88,
   "metadata": {},
   "outputs": [],
   "source": [
    "INF = 999999\n",
    "\n",
    "# Function for Direct Result\n",
    "def floydAlgo(graph):\n",
    "    nV = len(graph)\n",
    "    for k in range(nV): \n",
    "        for i in range(nV): \n",
    "            for j in range(nV): \n",
    "                graph[i][j] = min(graph[i][j], graph[i][k] + graph[k][j]) \n",
    "    showMatrix(graph) #Printing Matrix\n",
    "\n",
    "# Function for Step by Step Implementation \n",
    "def stepbystepfloydAlgo(graph):\n",
    "    print('Original Matrix')\n",
    "    showMatrix(graph)\n",
    "    nV = len(graph)\n",
    "    for k in range(nV): \n",
    "        for i in range(nV): \n",
    "            for j in range(nV): \n",
    "                graph[i][j] = min(graph[i][j], graph[i][k] + graph[k][j]) \n",
    "        #Printing Matrix\n",
    "        print('After Step',k+1,'Matrix A:')\n",
    "        showMatrix(graph)\n",
    "\n",
    "def showMatrix(matrix):\n",
    "    nV = len(graph)\n",
    "    for i in range(nV): \n",
    "        for j in range(nV):\n",
    "            if (matrix[i][j]==INF):\n",
    "                print(u\"\\u221E\", end = \"\\t\")\n",
    "                #print('INF', end = \"\\t\")\n",
    "            else:\n",
    "                print(matrix[i][j], end = \"\\t\") \n",
    "        print()\n",
    "\n"
   ]
  },
  {
   "cell_type": "code",
   "execution_count": 89,
   "metadata": {},
   "outputs": [
    {
     "name": "stdout",
     "output_type": "stream",
     "text": [
      "Original Matrix\n",
      "0\t3\t∞\t5\t\n",
      "2\t0\t∞\t4\t\n",
      "∞\t1\t0\t∞\t\n",
      "∞\t∞\t2\t0\t\n",
      "After Step 1 Matrix A:\n",
      "0\t3\t∞\t5\t\n",
      "2\t0\t∞\t4\t\n",
      "∞\t1\t0\t∞\t\n",
      "∞\t∞\t2\t0\t\n",
      "After Step 2 Matrix A:\n",
      "0\t3\t∞\t5\t\n",
      "2\t0\t∞\t4\t\n",
      "3\t1\t0\t5\t\n",
      "∞\t∞\t2\t0\t\n",
      "After Step 3 Matrix A:\n",
      "0\t3\t∞\t5\t\n",
      "2\t0\t∞\t4\t\n",
      "3\t1\t0\t5\t\n",
      "5\t3\t2\t0\t\n",
      "After Step 4 Matrix A:\n",
      "0\t3\t7\t5\t\n",
      "2\t0\t6\t4\t\n",
      "3\t1\t0\t5\t\n",
      "5\t3\t2\t0\t\n"
     ]
    }
   ],
   "source": [
    "graph = [[0, 3, INF, 5],\n",
    "         [2, 0, INF, 4],\n",
    "         [INF, 1, 0, INF],\n",
    "         [INF, INF, 2, 0]]\n",
    "stepbystepfloydAlgo(graph)"
   ]
  },
  {
   "cell_type": "code",
   "execution_count": 90,
   "metadata": {},
   "outputs": [
    {
     "name": "stdout",
     "output_type": "stream",
     "text": [
      "0\t3\t7\t5\t\n",
      "2\t0\t6\t4\t\n",
      "3\t1\t0\t5\t\n",
      "5\t3\t2\t0\t\n"
     ]
    }
   ],
   "source": [
    "graph = [[0, 3, INF, 5],\n",
    "         [2, 0, INF, 4],\n",
    "         [INF, 1, 0, INF],\n",
    "         [INF, INF, 2, 0]]\n",
    "\n",
    "#Direct Result\n",
    "floydAlgo(graph)"
   ]
  },
  {
   "cell_type": "code",
   "execution_count": 91,
   "metadata": {},
   "outputs": [
    {
     "name": "stdout",
     "output_type": "stream",
     "text": [
      "Original Matrix\n",
      "0\t2\t5\t∞\t∞\t∞\t\n",
      "∞\t0\t7\t1\t∞\t8\t\n",
      "∞\t∞\t0\t4\t∞\t∞\t\n",
      "∞\t∞\t∞\t0\t3\t∞\t\n",
      "∞\t∞\t2\t∞\t0\t3\t\n",
      "∞\t5\t∞\t2\t4\t0\t\n",
      "After Step 1 Matrix A:\n",
      "0\t2\t5\t∞\t∞\t∞\t\n",
      "∞\t0\t7\t1\t∞\t8\t\n",
      "∞\t∞\t0\t4\t∞\t∞\t\n",
      "∞\t∞\t∞\t0\t3\t∞\t\n",
      "∞\t∞\t2\t∞\t0\t3\t\n",
      "∞\t5\t∞\t2\t4\t0\t\n",
      "After Step 2 Matrix A:\n",
      "0\t2\t5\t3\t∞\t10\t\n",
      "∞\t0\t7\t1\t∞\t8\t\n",
      "∞\t∞\t0\t4\t∞\t∞\t\n",
      "∞\t∞\t∞\t0\t3\t∞\t\n",
      "∞\t∞\t2\t∞\t0\t3\t\n",
      "∞\t5\t12\t2\t4\t0\t\n",
      "After Step 3 Matrix A:\n",
      "0\t2\t5\t3\t∞\t10\t\n",
      "∞\t0\t7\t1\t∞\t8\t\n",
      "∞\t∞\t0\t4\t∞\t∞\t\n",
      "∞\t∞\t∞\t0\t3\t∞\t\n",
      "∞\t∞\t2\t6\t0\t3\t\n",
      "∞\t5\t12\t2\t4\t0\t\n",
      "After Step 4 Matrix A:\n",
      "0\t2\t5\t3\t6\t10\t\n",
      "∞\t0\t7\t1\t4\t8\t\n",
      "∞\t∞\t0\t4\t7\t∞\t\n",
      "∞\t∞\t∞\t0\t3\t∞\t\n",
      "∞\t∞\t2\t6\t0\t3\t\n",
      "∞\t5\t12\t2\t4\t0\t\n",
      "After Step 5 Matrix A:\n",
      "0\t2\t5\t3\t6\t9\t\n",
      "∞\t0\t6\t1\t4\t7\t\n",
      "∞\t∞\t0\t4\t7\t10\t\n",
      "∞\t∞\t5\t0\t3\t6\t\n",
      "∞\t∞\t2\t6\t0\t3\t\n",
      "∞\t5\t6\t2\t4\t0\t\n",
      "After Step 6 Matrix A:\n",
      "0\t2\t5\t3\t6\t9\t\n",
      "∞\t0\t6\t1\t4\t7\t\n",
      "∞\t15\t0\t4\t7\t10\t\n",
      "∞\t11\t5\t0\t3\t6\t\n",
      "∞\t8\t2\t5\t0\t3\t\n",
      "∞\t5\t6\t2\t4\t0\t\n"
     ]
    }
   ],
   "source": [
    "graph = [[0,2,5,INF,INF,INF],\n",
    "         [INF,0,7,1,INF,8],\n",
    "         [INF,INF,0,4,INF,INF],\n",
    "         [INF,INF,INF,0,3,INF],\n",
    "         [INF,INF,2,INF,0,3],\n",
    "         [INF,5,INF,2,4,0]];\n",
    "\n",
    "#floydAlgo(graph)\n",
    "stepbystepfloydAlgo(graph)"
   ]
  },
  {
   "cell_type": "code",
   "execution_count": null,
   "metadata": {},
   "outputs": [],
   "source": []
  },
  {
   "cell_type": "code",
   "execution_count": null,
   "metadata": {},
   "outputs": [],
   "source": []
  }
 ],
 "metadata": {
  "kernelspec": {
   "display_name": "Python 3",
   "language": "python",
   "name": "python3"
  },
  "language_info": {
   "codemirror_mode": {
    "name": "ipython",
    "version": 3
   },
   "file_extension": ".py",
   "mimetype": "text/x-python",
   "name": "python",
   "nbconvert_exporter": "python",
   "pygments_lexer": "ipython3",
   "version": "3.7.3"
  }
 },
 "nbformat": 4,
 "nbformat_minor": 2
}
